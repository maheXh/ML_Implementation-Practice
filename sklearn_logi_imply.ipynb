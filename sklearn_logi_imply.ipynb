{
 "cells": [
  {
   "cell_type": "code",
   "execution_count": 2,
   "metadata": {},
   "outputs": [
    {
     "name": "stdout",
     "output_type": "stream",
     "text": [
      "Accuracy: 0.7619047619047619\n",
      "Confusion Matrix:\n",
      " [[74 10]\n",
      " [20 22]]\n",
      "Classification Report:\n",
      "               precision    recall  f1-score   support\n",
      "\n",
      "           0       0.79      0.88      0.83        84\n",
      "           1       0.69      0.52      0.59        42\n",
      "\n",
      "    accuracy                           0.76       126\n",
      "   macro avg       0.74      0.70      0.71       126\n",
      "weighted avg       0.75      0.76      0.75       126\n",
      "\n"
     ]
    }
   ],
   "source": [
    "import numpy as np\n",
    "import pandas as pd\n",
    "import matplotlib.pyplot as plt\n",
    "import seaborn as sns\n",
    "from sklearn.model_selection import train_test_split\n",
    "from sklearn.linear_model import LogisticRegression\n",
    "from sklearn.metrics import confusion_matrix, classification_report, accuracy_score\n",
    "from cleaning import clean_data\n",
    "\n",
    "# Assuming you have already defined x_train, y_train, x_test, y_test\n",
    "\n",
    "df = pd.read_csv(\"diabetes.csv\")\n",
    "\n",
    "zeros_not_req = df.columns\n",
    "zeros_not_req = zeros_not_req.drop('Pregnancies')\n",
    "zeros_not_req = zeros_not_req.drop('Outcome')\n",
    "for column in zeros_not_req:\n",
    "    df[column] = df[column].replace(0,np.NaN)\n",
    "    mean = df[column].mean(skipna=True)\n",
    "    df[column] = df[column].replace(np.NaN,mean)\n",
    "\n",
    "df = clean_data(df)\n",
    "\n",
    "from sklearn.model_selection import train_test_split\n",
    "\n",
    "x = df.drop(\"Outcome\", axis=1)\n",
    "y = df[\"Outcome\"]\n",
    "x = x.values\n",
    "y = y.values\n",
    "\n",
    "x_train, x_test, y_train, y_test = train_test_split(\n",
    "    x, y, test_size=0.2, stratify=y, random_state=69\n",
    ")\n",
    "# Create an instance of the logistic regression model\n",
    "logistic_model = LogisticRegression(random_state=69)\n",
    "\n",
    "# Fit the model to the training data\n",
    "logistic_model.fit(x_train, y_train)\n",
    "\n",
    "# Make predictions on the test data\n",
    "y_pred = logistic_model.predict(x_test)\n",
    "\n",
    "# Evaluate the model's performance\n",
    "accuracy = accuracy_score(y_test, y_pred)\n",
    "confusion = confusion_matrix(y_test, y_pred)\n",
    "classification_rep = classification_report(y_test, y_pred)\n",
    "\n",
    "# Print the results\n",
    "print(\"Accuracy:\", accuracy)\n",
    "print(\"Confusion Matrix:\\n\", confusion)\n",
    "print(\"Classification Report:\\n\", classification_rep)"
   ]
  }
 ],
 "metadata": {
  "kernelspec": {
   "display_name": "Python 3",
   "language": "python",
   "name": "python3"
  },
  "language_info": {
   "codemirror_mode": {
    "name": "ipython",
    "version": 3
   },
   "file_extension": ".py",
   "mimetype": "text/x-python",
   "name": "python",
   "nbconvert_exporter": "python",
   "pygments_lexer": "ipython3",
   "version": "3.10.11"
  },
  "orig_nbformat": 4
 },
 "nbformat": 4,
 "nbformat_minor": 2
}

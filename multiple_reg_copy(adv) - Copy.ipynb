{
  "cells": [
    {
      "cell_type": "code",
      "execution_count": 39,
      "metadata": {
        "id": "4v6OwkluUfsu"
      },
      "outputs": [],
      "source": [
        "import numpy as np\n",
        "import pandas as pd\n",
        "import matplotlib.pyplot as plt\n",
        "import seaborn as sns"
      ]
    },
    {
      "cell_type": "code",
      "execution_count": 497,
      "metadata": {
        "id": "HjRWF4gZUfsw"
      },
      "outputs": [
        {
          "data": {
            "text/html": [
              "<div>\n",
              "<style scoped>\n",
              "    .dataframe tbody tr th:only-of-type {\n",
              "        vertical-align: middle;\n",
              "    }\n",
              "\n",
              "    .dataframe tbody tr th {\n",
              "        vertical-align: top;\n",
              "    }\n",
              "\n",
              "    .dataframe thead th {\n",
              "        text-align: right;\n",
              "    }\n",
              "</style>\n",
              "<table border=\"1\" class=\"dataframe\">\n",
              "  <thead>\n",
              "    <tr style=\"text-align: right;\">\n",
              "      <th></th>\n",
              "      <th>price</th>\n",
              "      <th>area</th>\n",
              "      <th>bedrooms</th>\n",
              "      <th>bathrooms</th>\n",
              "      <th>stories</th>\n",
              "      <th>mainroad</th>\n",
              "      <th>guestroom</th>\n",
              "      <th>basement</th>\n",
              "      <th>hotwaterheating</th>\n",
              "      <th>airconditioning</th>\n",
              "      <th>parking</th>\n",
              "      <th>prefarea</th>\n",
              "      <th>furnishingstatus</th>\n",
              "    </tr>\n",
              "  </thead>\n",
              "  <tbody>\n",
              "    <tr>\n",
              "      <th>0</th>\n",
              "      <td>13300000</td>\n",
              "      <td>7420</td>\n",
              "      <td>4</td>\n",
              "      <td>2</td>\n",
              "      <td>3</td>\n",
              "      <td>1</td>\n",
              "      <td>0</td>\n",
              "      <td>0</td>\n",
              "      <td>0</td>\n",
              "      <td>1</td>\n",
              "      <td>2</td>\n",
              "      <td>1</td>\n",
              "      <td>2</td>\n",
              "    </tr>\n",
              "    <tr>\n",
              "      <th>1</th>\n",
              "      <td>12250000</td>\n",
              "      <td>8960</td>\n",
              "      <td>4</td>\n",
              "      <td>4</td>\n",
              "      <td>4</td>\n",
              "      <td>1</td>\n",
              "      <td>0</td>\n",
              "      <td>0</td>\n",
              "      <td>0</td>\n",
              "      <td>1</td>\n",
              "      <td>3</td>\n",
              "      <td>0</td>\n",
              "      <td>2</td>\n",
              "    </tr>\n",
              "    <tr>\n",
              "      <th>2</th>\n",
              "      <td>12250000</td>\n",
              "      <td>9960</td>\n",
              "      <td>3</td>\n",
              "      <td>2</td>\n",
              "      <td>2</td>\n",
              "      <td>1</td>\n",
              "      <td>0</td>\n",
              "      <td>1</td>\n",
              "      <td>0</td>\n",
              "      <td>0</td>\n",
              "      <td>2</td>\n",
              "      <td>1</td>\n",
              "      <td>1</td>\n",
              "    </tr>\n",
              "    <tr>\n",
              "      <th>3</th>\n",
              "      <td>12215000</td>\n",
              "      <td>7500</td>\n",
              "      <td>4</td>\n",
              "      <td>2</td>\n",
              "      <td>2</td>\n",
              "      <td>1</td>\n",
              "      <td>0</td>\n",
              "      <td>1</td>\n",
              "      <td>0</td>\n",
              "      <td>1</td>\n",
              "      <td>3</td>\n",
              "      <td>1</td>\n",
              "      <td>2</td>\n",
              "    </tr>\n",
              "    <tr>\n",
              "      <th>4</th>\n",
              "      <td>11410000</td>\n",
              "      <td>7420</td>\n",
              "      <td>4</td>\n",
              "      <td>1</td>\n",
              "      <td>2</td>\n",
              "      <td>1</td>\n",
              "      <td>1</td>\n",
              "      <td>1</td>\n",
              "      <td>0</td>\n",
              "      <td>1</td>\n",
              "      <td>2</td>\n",
              "      <td>0</td>\n",
              "      <td>2</td>\n",
              "    </tr>\n",
              "    <tr>\n",
              "      <th>...</th>\n",
              "      <td>...</td>\n",
              "      <td>...</td>\n",
              "      <td>...</td>\n",
              "      <td>...</td>\n",
              "      <td>...</td>\n",
              "      <td>...</td>\n",
              "      <td>...</td>\n",
              "      <td>...</td>\n",
              "      <td>...</td>\n",
              "      <td>...</td>\n",
              "      <td>...</td>\n",
              "      <td>...</td>\n",
              "      <td>...</td>\n",
              "    </tr>\n",
              "    <tr>\n",
              "      <th>540</th>\n",
              "      <td>1820000</td>\n",
              "      <td>3000</td>\n",
              "      <td>2</td>\n",
              "      <td>1</td>\n",
              "      <td>1</td>\n",
              "      <td>1</td>\n",
              "      <td>0</td>\n",
              "      <td>1</td>\n",
              "      <td>0</td>\n",
              "      <td>0</td>\n",
              "      <td>2</td>\n",
              "      <td>0</td>\n",
              "      <td>0</td>\n",
              "    </tr>\n",
              "    <tr>\n",
              "      <th>541</th>\n",
              "      <td>1767150</td>\n",
              "      <td>2400</td>\n",
              "      <td>3</td>\n",
              "      <td>1</td>\n",
              "      <td>1</td>\n",
              "      <td>0</td>\n",
              "      <td>0</td>\n",
              "      <td>0</td>\n",
              "      <td>0</td>\n",
              "      <td>0</td>\n",
              "      <td>0</td>\n",
              "      <td>0</td>\n",
              "      <td>1</td>\n",
              "    </tr>\n",
              "    <tr>\n",
              "      <th>542</th>\n",
              "      <td>1750000</td>\n",
              "      <td>3620</td>\n",
              "      <td>2</td>\n",
              "      <td>1</td>\n",
              "      <td>1</td>\n",
              "      <td>1</td>\n",
              "      <td>0</td>\n",
              "      <td>0</td>\n",
              "      <td>0</td>\n",
              "      <td>0</td>\n",
              "      <td>0</td>\n",
              "      <td>0</td>\n",
              "      <td>0</td>\n",
              "    </tr>\n",
              "    <tr>\n",
              "      <th>543</th>\n",
              "      <td>1750000</td>\n",
              "      <td>2910</td>\n",
              "      <td>3</td>\n",
              "      <td>1</td>\n",
              "      <td>1</td>\n",
              "      <td>0</td>\n",
              "      <td>0</td>\n",
              "      <td>0</td>\n",
              "      <td>0</td>\n",
              "      <td>0</td>\n",
              "      <td>0</td>\n",
              "      <td>0</td>\n",
              "      <td>2</td>\n",
              "    </tr>\n",
              "    <tr>\n",
              "      <th>544</th>\n",
              "      <td>1750000</td>\n",
              "      <td>3850</td>\n",
              "      <td>3</td>\n",
              "      <td>1</td>\n",
              "      <td>2</td>\n",
              "      <td>1</td>\n",
              "      <td>0</td>\n",
              "      <td>0</td>\n",
              "      <td>0</td>\n",
              "      <td>0</td>\n",
              "      <td>0</td>\n",
              "      <td>0</td>\n",
              "      <td>0</td>\n",
              "    </tr>\n",
              "  </tbody>\n",
              "</table>\n",
              "<p>545 rows × 13 columns</p>\n",
              "</div>"
            ],
            "text/plain": [
              "        price  area  bedrooms  bathrooms  stories  mainroad  guestroom  \\\n",
              "0    13300000  7420         4          2        3         1          0   \n",
              "1    12250000  8960         4          4        4         1          0   \n",
              "2    12250000  9960         3          2        2         1          0   \n",
              "3    12215000  7500         4          2        2         1          0   \n",
              "4    11410000  7420         4          1        2         1          1   \n",
              "..        ...   ...       ...        ...      ...       ...        ...   \n",
              "540   1820000  3000         2          1        1         1          0   \n",
              "541   1767150  2400         3          1        1         0          0   \n",
              "542   1750000  3620         2          1        1         1          0   \n",
              "543   1750000  2910         3          1        1         0          0   \n",
              "544   1750000  3850         3          1        2         1          0   \n",
              "\n",
              "     basement  hotwaterheating  airconditioning  parking  prefarea  \\\n",
              "0           0                0                1        2         1   \n",
              "1           0                0                1        3         0   \n",
              "2           1                0                0        2         1   \n",
              "3           1                0                1        3         1   \n",
              "4           1                0                1        2         0   \n",
              "..        ...              ...              ...      ...       ...   \n",
              "540         1                0                0        2         0   \n",
              "541         0                0                0        0         0   \n",
              "542         0                0                0        0         0   \n",
              "543         0                0                0        0         0   \n",
              "544         0                0                0        0         0   \n",
              "\n",
              "     furnishingstatus  \n",
              "0                   2  \n",
              "1                   2  \n",
              "2                   1  \n",
              "3                   2  \n",
              "4                   2  \n",
              "..                ...  \n",
              "540                 0  \n",
              "541                 1  \n",
              "542                 0  \n",
              "543                 2  \n",
              "544                 0  \n",
              "\n",
              "[545 rows x 13 columns]"
            ]
          },
          "execution_count": 497,
          "metadata": {},
          "output_type": "execute_result"
        }
      ],
      "source": [
        "data = pd.read_csv(\"HouseData.csv\")\n",
        "# col = \"price area bedrooms bathrooms stories\".split()\n",
        "# data = data[col]\n",
        "\n",
        "# # sns.pairplot(data)\n",
        "data\n"
      ]
    },
    {
      "cell_type": "code",
      "execution_count": 498,
      "metadata": {
        "colab": {
          "base_uri": "https://localhost:8080/"
        },
        "id": "wy_UYCkVUfsx",
        "outputId": "aa7899bb-0cc2-4eef-ed6c-838dcc271da1"
      },
      "outputs": [
        {
          "name": "stdout",
          "output_type": "stream",
          "text": [
            "Missing values per column:\n",
            "price               0\n",
            "area                0\n",
            "bedrooms            0\n",
            "bathrooms           0\n",
            "stories             0\n",
            "mainroad            0\n",
            "guestroom           0\n",
            "basement            0\n",
            "hotwaterheating     0\n",
            "airconditioning     0\n",
            "parking             0\n",
            "prefarea            0\n",
            "furnishingstatus    0\n",
            "dtype: int64\n"
          ]
        }
      ],
      "source": [
        "missing_values = data.isna().sum() + data.isnull().sum()\n",
        "\n",
        "print(\"Missing values per column:\")\n",
        "print(missing_values)"
      ]
    },
    {
      "cell_type": "markdown",
      "metadata": {
        "id": "x4wzsxjalfZc"
      },
      "source": [
        "# New Section"
      ]
    },
    {
      "cell_type": "code",
      "execution_count": 533,
      "metadata": {
        "id": "u0FgkwEJUfsx"
      },
      "outputs": [],
      "source": [
        "from sklearn.model_selection import train_test_split\n",
        "\n",
        "# Assuming 'data' is your DataFrame\n",
        "X = data.drop(\"price\", axis=1)  # Features (all columns except 'price')\n",
        "y = data[\"price\"]  # Target variable ('price')\n",
        "\n",
        "X_train, X_test, y_train, y_test = train_test_split(X, y, test_size=0.2)\n",
        "\n"
      ]
    },
    {
      "cell_type": "code",
      "execution_count": 534,
      "metadata": {
        "id": "ScN-CPsMUfsx"
      },
      "outputs": [],
      "source": [
        "meu = np.mean(X_train[\"area\"])\n",
        "sigma = np.std(X_train[\"area\"])\n",
        "\n",
        "X_train[\"area\"] = (X_train[\"area\"] - meu) / sigma\n",
        "\n",
        "\n",
        "X_test[\"area\"] = (X_test[\"area\"] - meu) / sigma\n",
        "\n",
        "\n"
      ]
    },
    {
      "cell_type": "code",
      "execution_count": 535,
      "metadata": {
        "id": "GUu-eiPWXTKZ"
      },
      "outputs": [],
      "source": [
        "# Calculate Q1 and Q3\n",
        "Q1 = X_train['area'].quantile(0.1)\n",
        "Q3 = X_train['area'].quantile(0.9)\n",
        "\n",
        "# Calculate IQR\n",
        "IQR = Q3 - Q1\n",
        "\n",
        "# Define lower and upper bounds for outliers\n",
        "lower_bound = Q1 - 1.5 * IQR\n",
        "upper_bound = Q3 + 1.5 * IQR\n",
        "\n",
        "# Find outliers\n",
        "X_train = X_train[(X_train['area'] >= lower_bound) & (X_train['area'] <= upper_bound)]\n",
        "X_test = X_test[(X_test['area'] >= lower_bound) & (X_test['area'] <= upper_bound)]\n",
        "y_train = y_train.loc[X_train.index]\n",
        "y_test = y_test.loc[X_test.index]\n",
        "\n",
        "# Optionally, you can reset the index of the filtered DataFrames\n",
        "X_train.reset_index(drop=True, inplace=True)\n",
        "X_test.reset_index(drop=True, inplace=True)\n",
        "y_train.reset_index(drop=True, inplace=True)\n",
        "y_test.reset_index(drop=True, inplace=True)\n",
        "\n"
      ]
    },
    {
      "cell_type": "code",
      "execution_count": 536,
      "metadata": {
        "colab": {
          "base_uri": "https://localhost:8080/",
          "height": 467
        },
        "id": "et98zktuUfsy",
        "outputId": "5fca3bf9-9879-4fa9-e432-5997d9f284dd"
      },
      "outputs": [
        {
          "data": {
            "text/plain": [
              "<Axes: xlabel='area', ylabel='bedrooms'>"
            ]
          },
          "execution_count": 536,
          "metadata": {},
          "output_type": "execute_result"
        },
        {
          "data": {
            "image/png": "[encoded data removed]",
            "text/plain": [
              "<Figure size 640x480 with 1 Axes>"
            ]
          },
          "metadata": {},
          "output_type": "display_data"
        }
      ],
      "source": [
        "sns.kdeplot(x=X_train[\"area\"], y=X_train[\"bedrooms\"])"
      ]
    },
    {
      "cell_type": "code",
      "execution_count": 537,
      "metadata": {
        "colab": {
          "base_uri": "https://localhost:8080/",
          "height": 448
        },
        "id": "qrrbL-_ZUfsy",
        "outputId": "6d3a8fca-4ab3-42de-8019-9358fa6eb3ba"
      },
      "outputs": [
        {
          "data": {
            "text/plain": [
              "<Axes: ylabel='area'>"
            ]
          },
          "execution_count": 537,
          "metadata": {},
          "output_type": "execute_result"
        },
        {
          "data": {
            "image/png": "[encoded data removed]",
            "text/plain": [
              "<Figure size 640x480 with 1 Axes>"
            ]
          },
          "metadata": {},
          "output_type": "display_data"
        }
      ],
      "source": [
        "sns.scatterplot(X_train[\"area\"])"
      ]
    },
    {
      "cell_type": "code",
      "execution_count": 538,
      "metadata": {
        "id": "tqQb463jUfsy"
      },
      "outputs": [],
      "source": [
        "def function(w,b,x):\n",
        "    p = np.dot(w,x)+b\n",
        "    return p"
      ]
    },
    {
      "cell_type": "code",
      "execution_count": 539,
      "metadata": {
        "colab": {
          "base_uri": "https://localhost:8080/"
        },
        "id": "vA0GoIWTUfsy",
        "outputId": "61709b4c-210a-4d2d-fb5b-1ca8439d12ff"
      },
      "outputs": [
        {
          "name": "stdout",
          "output_type": "stream",
          "text": [
            "w: [0. 0. 0. 0. 0. 0. 0. 0. 0. 0. 0. 0.]\n",
            "b: 0.0\n"
          ]
        }
      ],
      "source": [
        "n = X_train.shape[1]\n",
        "\n",
        "\n",
        "w = np.array([0.0, 0.0, 0.0, 0.0,0.0,0.0,0.0,0.0,0.0,0.0,0.0,0.0])\n",
        "b = 0.0\n",
        "\n",
        "print(\"w:\", w)\n",
        "print(\"b:\", b)\n",
        "\n"
      ]
    },
    {
      "cell_type": "code",
      "execution_count": 540,
      "metadata": {
        "colab": {
          "base_uri": "https://localhost:8080/"
        },
        "id": "fFoSRxK5Ufsz",
        "outputId": "b0ccc87e-24b2-4873-f5fe-1606a00f5f7d"
      },
      "outputs": [
        {
          "data": {
            "text/plain": [
              "0.0"
            ]
          },
          "execution_count": 540,
          "metadata": {},
          "output_type": "execute_result"
        }
      ],
      "source": [
        "function(w,b,X_train.iloc[0])"
      ]
    },
    {
      "cell_type": "code",
      "execution_count": 541,
      "metadata": {
        "id": "mccakJTrUfsz"
      },
      "outputs": [],
      "source": [
        "\n",
        "def cost(w, b, x, y):\n",
        "    m = x.shape[0]\n",
        "    f_wb = np.dot(x, w) + b \n",
        "    mcost = np.sum((f_wb - y) ** 2) \n",
        "    total_cost = mcost / (2 * m)\n",
        "    return total_cost\n"
      ]
    },
    {
      "cell_type": "code",
      "execution_count": 542,
      "metadata": {},
      "outputs": [
        {
          "data": {
            "text/plain": [
              "12992945200262.758"
            ]
          },
          "execution_count": 542,
          "metadata": {},
          "output_type": "execute_result"
        }
      ],
      "source": [
        "cost(w,b,X_train,y_train)"
      ]
    },
    {
      "cell_type": "code",
      "execution_count": 543,
      "metadata": {
        "id": "zi4bQCZ1Ufsz"
      },
      "outputs": [],
      "source": [
        "def derivative(w, b, x, y):\n",
        "    m, n = x.shape\n",
        "    f_wb = np.dot(x, w) + b\n",
        "    error = f_wb - y\n",
        "    \n",
        "    dj_dw = np.dot(x.T, error) / m\n",
        "    dj_db = np.sum(error) / m\n",
        "\n",
        "    return dj_dw, dj_db\n"
      ]
    },
    {
      "cell_type": "code",
      "execution_count": 544,
      "metadata": {
        "id": "0ZdD7dDjUfsz"
      },
      "outputs": [],
      "source": [
        "def gd(w, b, x, y, alpha=0.01, num_iter=100):\n",
        "    m = x.shape[0]\n",
        "    for i in range(num_iter):\n",
        "        dj_dw, dj_db = derivative(w, b, x, y)\n",
        "        w -= alpha * dj_dw\n",
        "        b -= alpha * dj_db\n",
        "    return w, b"
      ]
    },
    {
      "cell_type": "code",
      "execution_count": null,
      "metadata": {
        "id": "2lsa-i_1Ufsz"
      },
      "outputs": [],
      "source": [
        "# w,b = gd(w,b,X_train,alpha = 0.00001,num_iter = 1000)"
      ]
    },
    {
      "cell_type": "code",
      "execution_count": null,
      "metadata": {
        "id": "Q07OrY6CUfs0"
      },
      "outputs": [],
      "source": [
        "# before gd                           : 12617396203243.807\n",
        "# 1. alpha = 0.00001,num_iter = 1000  :  1486185043989.0344\n",
        "# 2. alpha = 0.00001,num_iter = 1000  :  1297705255630.5657\n",
        "# 3. alpha = 0.00001,num_iter = 1000  :  1156965486471.085\n",
        "# 4. alpha = 0.00001,num_iter = 1000  :  1080308529393.5585"
      ]
    },
    {
      "cell_type": "code",
      "execution_count": 545,
      "metadata": {
        "colab": {
          "base_uri": "https://localhost:8080/"
        },
        "id": "bpo085ClUfs0",
        "outputId": "2fe901b1-a6ea-42fe-b208-4ee60dff28b8"
      },
      "outputs": [
        {
          "name": "stdout",
          "output_type": "stream",
          "text": [
            "w: [0. 0. 0. 0. 0. 0. 0. 0. 0. 0. 0. 0.]\n",
            "b: 0.0\n"
          ]
        }
      ],
      "source": [
        "print(\"w:\", w)\n",
        "print(\"b:\", b)"
      ]
    },
    {
      "cell_type": "code",
      "execution_count": 551,
      "metadata": {
        "colab": {
          "base_uri": "https://localhost:8080/",
          "height": 564
        },
        "id": "xD-ejFn_Ufs0",
        "outputId": "d718f0b9-f2e0-4a1f-c2f5-6216d6d8ee01"
      },
      "outputs": [
        {
          "data": {
            "image/png": "[encoded data removed]",
            "text/plain": [
              "<Figure size 1000x600 with 1 Axes>"
            ]
          },
          "metadata": {},
          "output_type": "display_data"
        }
      ],
      "source": [
        "costValues = []\n",
        "iters = []\n",
        "learning_rate = 0.1\n",
        "\n",
        "for i in range(0, 1000, 1):\n",
        "    iters.append(i)\n",
        "    w, b = gd(w, b, X_train,y_train, alpha=learning_rate, num_iter=1)\n",
        "    costValues.append(cost(w, b, X_train, y_train))\n",
        "\n",
        "# Plotting the learning curve using Seaborn\n",
        "sns.set_style(\"whitegrid\")\n",
        "plt.figure(figsize=(10, 6))\n",
        "sns.lineplot(x=iters, y=costValues, marker='o', linestyle='-')\n",
        "plt.title('Learning Curve')\n",
        "plt.xlabel('Number of Iterations')\n",
        "plt.ylabel('Cost')\n",
        "plt.show()"
      ]
    },
    {
      "cell_type": "code",
      "execution_count": 552,
      "metadata": {
        "colab": {
          "base_uri": "https://localhost:8080/"
        },
        "id": "6u2oalEXYo5h",
        "outputId": "20528a19-477d-4af4-ef12-8b8d2e420cea"
      },
      "outputs": [
        {
          "name": "stdout",
          "output_type": "stream",
          "text": [
            "w: [496544.280248    33888.58290731 987682.36896872 470794.30668835\n",
            " 324713.50251509 268504.8947432  371965.47918108 814063.85674071\n",
            " 911125.35240433 297446.51592329 780539.68646462 209790.50534944]\n",
            "b: 1138285.025875238\n"
          ]
        }
      ],
      "source": [
        "print(\"w:\", w)\n",
        "print(\"b:\", b)"
      ]
    },
    {
      "cell_type": "code",
      "execution_count": null,
      "metadata": {},
      "outputs": [],
      "source": [
        "w: [556362.85166496 250401.3891707  988712.41170721 439259.05903556\n",
        " 506434.29024463 248334.71370548 407337.89560898 216197.18866988\n",
        " 612038.20828205 253192.12870746 531637.66489128 257562.70355038]\n",
        "b: 559204.1403147139"
      ]
    },
    {
      "cell_type": "code",
      "execution_count": 558,
      "metadata": {
        "id": "2fuETnKpZX6w"
      },
      "outputs": [],
      "source": [
        "y_pred = []\n",
        "m = y_test.shape[0]\n",
        "for i in range(m):\n",
        "  y_pred.append(function(w,b,X_test.iloc[i]))"
      ]
    },
    {
      "cell_type": "code",
      "execution_count": 559,
      "metadata": {
        "colab": {
          "base_uri": "https://localhost:8080/"
        },
        "id": "W2n_2YsbZLtr",
        "outputId": "6c12cbaa-35c2-42e7-e9b3-1aee0232c5c7"
      },
      "outputs": [
        {
          "data": {
            "text/plain": [
              "1030303067744.0303"
            ]
          },
          "execution_count": 559,
          "metadata": {},
          "output_type": "execute_result"
        }
      ],
      "source": [
        "from sklearn.metrics import r2_score\n",
        "from sklearn.metrics import mean_squared_error\n",
        "r2_score(y_test,y_pred)\n"
      ]
    },
    {
      "cell_type": "code",
      "execution_count": 555,
      "metadata": {},
      "outputs": [
        {
          "data": {
            "text/plain": [
              "0.6802857795183963"
            ]
          },
          "execution_count": 555,
          "metadata": {},
          "output_type": "execute_result"
        }
      ],
      "source": [
        "y_pred = []\n",
        "m = y_train.shape[0]\n",
        "for i in range(m):\n",
        "  y_pred.append(function(w,b,X_train.iloc[i]))\n",
        "r2_score(y_train,y_pred)"
      ]
    },
    {
      "cell_type": "code",
      "execution_count": 566,
      "metadata": {},
      "outputs": [
        {
          "data": {
            "text/plain": [
              "4395974.339327373"
            ]
          },
          "execution_count": 566,
          "metadata": {},
          "output_type": "execute_result"
        }
      ],
      "source": [
        "function(w,b,X_train.iloc[5])"
      ]
    },
    {
      "cell_type": "code",
      "execution_count": 567,
      "metadata": {},
      "outputs": [
        {
          "data": {
            "text/plain": [
              "2380000"
            ]
          },
          "execution_count": 567,
          "metadata": {},
          "output_type": "execute_result"
        }
      ],
      "source": [
        "y_train[5]"
      ]
    },
    {
      "cell_type": "code",
      "execution_count": 568,
      "metadata": {},
      "outputs": [
        {
          "data": {
            "text/plain": [
              "2015974.3393273726"
            ]
          },
          "execution_count": 568,
          "metadata": {},
          "output_type": "execute_result"
        }
      ],
      "source": [
        "4395974.339327373-2380000"
      ]
    },
    {
      "cell_type": "code",
      "execution_count": 523,
      "metadata": {},
      "outputs": [],
      "source": [
        "def cost(w, b, x, y, l=100):\n",
        "    m = len(y)\n",
        "    y_pred = np.dot(x, w) + b\n",
        "    error = y_pred - y\n",
        "    cost = (1 / (2 * m)) * np.sum(error**2) + (l / (2 * m)) * np.sum(w**2)\n",
        "    return cost\n",
        "\n",
        "def derivative(w, b, x, y, l=100):\n",
        "    m = len(y)\n",
        "    y_pred = np.dot(x, w) + b\n",
        "    error = y_pred - y\n",
        "    dw = (1 / m) * np.dot(x.T, error) + (l / m) * w\n",
        "    db = (1 / m) * np.sum(error)\n",
        "    return dw, db\n",
        "\n",
        "def reg_gd(w, b, x, y, alpha=0.01, num_iter=100, l=100):\n",
        "    m = len(y)\n",
        "    for i in range(num_iter):\n",
        "        dw, db = derivative(w, b, x, y, l)\n",
        "        w -= alpha * dw\n",
        "        b -= alpha * db\n",
        "    return w, b"
      ]
    },
    {
      "cell_type": "code",
      "execution_count": 440,
      "metadata": {},
      "outputs": [
        {
          "name": "stdout",
          "output_type": "stream",
          "text": [
            "[-4.80321884e-10 -1.53394306e-11  8.76538894e-12 -1.40246223e-10\n",
            "  2.62961668e-10  1.53394306e-11 -1.07376014e-10 -5.41262767e-10\n",
            " -3.87868460e-10 -3.72529030e-11 -4.57991572e-10 -9.86106255e-11] -1.0781428393195658e-09\n"
          ]
        }
      ],
      "source": [
        "dj_dw, dj_db = derivative(w, b, X_train, y_train)\n",
        "print(dj_dw, dj_db)"
      ]
    },
    {
      "cell_type": "code",
      "execution_count": 411,
      "metadata": {},
      "outputs": [],
      "source": [
        "def cost(w, b, x, y, l=100):\n",
        "    m = len(y)\n",
        "    y_pred = np.dot(x, w) + b\n",
        "    error = y_pred - y\n",
        "    cost = (1 / (2 * m)) * np.sum(error**2) + (l / (2 * m)) * np.sum(w**2)\n",
        "    return cost\n",
        "\n",
        "def derivative(w, b, x, y, l=100):\n",
        "    m = len(y)\n",
        "    y_pred = np.dot(x, w) + b\n",
        "    error = y_pred - y\n",
        "    dw = (1 / m) * np.dot(x.T, error) + (l / m) * w\n",
        "    db = (1 / m) * np.sum(error)\n",
        "    return dw, db\n",
        "\n",
        "def reg_gd(w, b, x, y, alpha=0.01, num_iter=100, l=36):\n",
        "    m = len(y)\n",
        "    for i in range(num_iter):\n",
        "        dw, db = derivative(w, b, x, y, l)\n",
        "        w -= alpha * dw\n",
        "        b -= alpha * db\n",
        "    return w, b\n"
      ]
    },
    {
      "cell_type": "code",
      "execution_count": 409,
      "metadata": {},
      "outputs": [],
      "source": []
    },
    {
      "cell_type": "code",
      "execution_count": 422,
      "metadata": {},
      "outputs": [
        {
          "data": {
            "image/png": "[encoded data removed]",
            "text/plain": [
              "<Figure size 1000x600 with 1 Axes>"
            ]
          },
          "metadata": {},
          "output_type": "display_data"
        }
      ],
      "source": [
        "costValues = []\n",
        "iters = []\n",
        "learning_rate = 0.01\n",
        "\n",
        "for i in range(0, 10000, 1):\n",
        "    iters.append(i)\n",
        "    w, b = reg_gd(w, b, X_train,y_train, alpha=learning_rate, num_iter=1)\n",
        "    costValues.append(cost(w, b, X_train, y_train))\n",
        "\n",
        "# Plotting the learning curve using Seaborn\n",
        "sns.set_style(\"whitegrid\")\n",
        "plt.figure(figsize=(10, 6))\n",
        "sns.lineplot(x=iters, y=costValues, marker='o', linestyle='-')\n",
        "plt.title('Learning Curve')\n",
        "plt.xlabel('Number of Iterations')\n",
        "plt.ylabel('Cost')\n",
        "plt.show()"
      ]
    },
    {
      "cell_type": "code",
      "execution_count": null,
      "metadata": {},
      "outputs": [],
      "source": []
    },
    {
      "cell_type": "code",
      "execution_count": 423,
      "metadata": {},
      "outputs": [],
      "source": [
        "y_pred = []\n",
        "m = y_test.shape[0]\n",
        "for i in range(m):\n",
        "  y_pred.append(function(w,b,X_test.iloc[i]))"
      ]
    },
    {
      "cell_type": "code",
      "execution_count": 424,
      "metadata": {},
      "outputs": [
        {
          "data": {
            "text/plain": [
              "0.6188434533193787"
            ]
          },
          "execution_count": 424,
          "metadata": {},
          "output_type": "execute_result"
        }
      ],
      "source": [
        "from sklearn.metrics import r2_score\n",
        "r2_score(y_test,y_pred)"
      ]
    },
    {
      "cell_type": "code",
      "execution_count": null,
      "metadata": {},
      "outputs": [],
      "source": []
    }
  ],
  "metadata": {
    "colab": {
      "provenance": []
    },
    "kernelspec": {
      "display_name": "Python 3",
      "language": "python",
      "name": "python3"
    },
    "language_info": {
      "codemirror_mode": {
        "name": "ipython",
        "version": 3
      },
      "file_extension": ".py",
      "mimetype": "text/x-python",
      "name": "python",
      "nbconvert_exporter": "python",
      "pygments_lexer": "ipython3",
      "version": "3.10.11"
    },
    "orig_nbformat": 4
  },
  "nbformat": 4,
  "nbformat_minor": 0
}
